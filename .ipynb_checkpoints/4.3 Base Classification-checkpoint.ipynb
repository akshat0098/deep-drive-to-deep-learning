{
 "cells": [
  {
   "cell_type": "code",
   "execution_count": 1,
   "id": "0d247125-6d5a-4ce9-99db-2fc7b7fb6a7e",
   "metadata": {},
   "outputs": [],
   "source": [
    "import torch \n",
    "from d2l import torch as d2l"
   ]
  },
  {
   "cell_type": "code",
   "execution_count": 2,
   "id": "c30578e6-4ed7-4bf7-8040-2095cebaab4e",
   "metadata": {},
   "outputs": [],
   "source": [
    "class Classifier(d2l.Module):\n",
    "    def validation_step(self,batch):\n",
    "        Y_hat = self(*batch[:-1])\n",
    "        self.plot('loss',self.loss(Y_hat,batch[-1]),train=False)\n",
    "        self.plot('acc',self.accuracy(Y_hat,batch[-1]),train=False)"
   ]
  },
  {
   "cell_type": "code",
   "execution_count": 3,
   "id": "160a3d6c-c500-4c2e-9545-477f179ac3ef",
   "metadata": {},
   "outputs": [],
   "source": [
    "@d2l.add_to_class(d2l.Module)\n",
    "def configure_optimizers(self):\n",
    "    return torch.optim.SGD(self.parameters(),lr=self.lr)"
   ]
  },
  {
   "cell_type": "code",
   "execution_count": null,
   "id": "37725e43-97a1-4cda-806f-6110cc9171f3",
   "metadata": {},
   "outputs": [],
   "source": []
  }
 ],
 "metadata": {
  "kernelspec": {
   "display_name": "Python 3 (ipykernel)",
   "language": "python",
   "name": "python3"
  },
  "language_info": {
   "codemirror_mode": {
    "name": "ipython",
    "version": 3
   },
   "file_extension": ".py",
   "mimetype": "text/x-python",
   "name": "python",
   "nbconvert_exporter": "python",
   "pygments_lexer": "ipython3",
   "version": "3.10.12"
  }
 },
 "nbformat": 4,
 "nbformat_minor": 5
}
