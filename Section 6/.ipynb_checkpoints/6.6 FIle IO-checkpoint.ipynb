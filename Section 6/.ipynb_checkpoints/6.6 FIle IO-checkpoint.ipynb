{
 "cells": [
  {
   "cell_type": "code",
   "execution_count": 1,
   "id": "e862ed76-c9c0-4ce9-a2ea-8c1e37a4dc96",
   "metadata": {},
   "outputs": [],
   "source": [
    "import torch\n",
    "from torch import nn\n",
    "from torch.nn import functional as F"
   ]
  },
  {
   "cell_type": "code",
   "execution_count": 2,
   "id": "cdabdbd5-ca39-4fbc-bfa1-09f5a66527d2",
   "metadata": {},
   "outputs": [],
   "source": [
    "x = torch.arange(4)\n",
    "torch.save(x,'x-file')"
   ]
  },
  {
   "cell_type": "code",
   "execution_count": 3,
   "id": "0ac080a4-7918-42e5-aa88-8446823f126c",
   "metadata": {},
   "outputs": [
    {
     "data": {
      "text/plain": [
       "tensor([0, 1, 2, 3])"
      ]
     },
     "execution_count": 3,
     "metadata": {},
     "output_type": "execute_result"
    }
   ],
   "source": [
    "x2 = torch.load('x-file')\n",
    "x2"
   ]
  },
  {
   "cell_type": "code",
   "execution_count": 4,
   "id": "0e282d15-6670-4f45-9081-d77eab08c090",
   "metadata": {},
   "outputs": [],
   "source": [
    "y = torch.zeros(4)\n",
    "torch.save([x,y],'x-files')\n"
   ]
  },
  {
   "cell_type": "code",
   "execution_count": 5,
   "id": "1a38ec66-a28d-443a-b838-66d16c92c77b",
   "metadata": {},
   "outputs": [],
   "source": [
    "x2,y2 = torch.load('x-files')"
   ]
  },
  {
   "cell_type": "code",
   "execution_count": 6,
   "id": "a3b3e44e-c662-498b-baac-928468a04a6e",
   "metadata": {},
   "outputs": [
    {
     "data": {
      "text/plain": [
       "(tensor([0, 1, 2, 3]), tensor([0., 0., 0., 0.]))"
      ]
     },
     "execution_count": 6,
     "metadata": {},
     "output_type": "execute_result"
    }
   ],
   "source": [
    "x2,y2"
   ]
  },
  {
   "cell_type": "code",
   "execution_count": 7,
   "id": "4f3bdcc0-cc2b-4005-b7f4-7c8429601a71",
   "metadata": {},
   "outputs": [
    {
     "data": {
      "text/plain": [
       "{'x': tensor([0, 1, 2, 3]), 'y': tensor([0., 0., 0., 0.])}"
      ]
     },
     "execution_count": 7,
     "metadata": {},
     "output_type": "execute_result"
    }
   ],
   "source": [
    "mydict = {'x': x, 'y': y}\n",
    "torch.save(mydict, 'mydict')\n",
    "mydict2 = torch.load('mydict')\n",
    "mydict2\n"
   ]
  },
  {
   "cell_type": "code",
   "execution_count": null,
   "id": "2acd0f7b-07ad-42bf-9838-6d594a412029",
   "metadata": {},
   "outputs": [],
   "source": []
  }
 ],
 "metadata": {
  "kernelspec": {
   "display_name": "Python 3 (ipykernel)",
   "language": "python",
   "name": "python3"
  },
  "language_info": {
   "codemirror_mode": {
    "name": "ipython",
    "version": 3
   },
   "file_extension": ".py",
   "mimetype": "text/x-python",
   "name": "python",
   "nbconvert_exporter": "python",
   "pygments_lexer": "ipython3",
   "version": "3.10.12"
  }
 },
 "nbformat": 4,
 "nbformat_minor": 5
}
