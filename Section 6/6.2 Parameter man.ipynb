{
 "cells": [
  {
   "cell_type": "code",
   "execution_count": 1,
   "id": "a882bcf0-2f7e-4869-ae17-c7126e0a39c8",
   "metadata": {},
   "outputs": [],
   "source": [
    "import torch\n",
    "from torch import nn"
   ]
  },
  {
   "cell_type": "code",
   "execution_count": 2,
   "id": "88bae1ef-e0e8-4167-b315-89a276372e05",
   "metadata": {},
   "outputs": [
    {
     "name": "stderr",
     "output_type": "stream",
     "text": [
      "/home/akshatsrivastava/.local/lib/python3.10/site-packages/torch/nn/modules/lazy.py:181: UserWarning: Lazy modules are a new feature under heavy development so changes to the API or functionality can happen at any moment.\n",
      "  warnings.warn('Lazy modules are a new feature under heavy development '\n"
     ]
    },
    {
     "data": {
      "text/plain": [
       "torch.Size([2, 1])"
      ]
     },
     "execution_count": 2,
     "metadata": {},
     "output_type": "execute_result"
    }
   ],
   "source": [
    "net = nn.Sequential(\n",
    "        nn.LazyLinear(8),\n",
    "        nn.ReLU(),\n",
    "        nn.LazyLinear(1))\n",
    "X = torch.rand(size=(2,4))\n",
    "net(X).shape"
   ]
  },
  {
   "cell_type": "code",
   "execution_count": 3,
   "id": "c596f2da-640f-4b2a-a34b-194dbaab427c",
   "metadata": {},
   "outputs": [
    {
     "data": {
      "text/plain": [
       "OrderedDict([('weight',\n",
       "              tensor([[ 0.2287, -0.1146,  0.3449, -0.0366,  0.0884,  0.0805,  0.2402,  0.2717]])),\n",
       "             ('bias', tensor([-0.2214]))])"
      ]
     },
     "execution_count": 3,
     "metadata": {},
     "output_type": "execute_result"
    }
   ],
   "source": [
    "net[2].state_dict()"
   ]
  },
  {
   "cell_type": "code",
   "execution_count": 4,
   "id": "45fbaf4c-c2e8-430d-bfcf-9298b58c66b0",
   "metadata": {},
   "outputs": [],
   "source": [
    "## a parameter access"
   ]
  },
  {
   "cell_type": "code",
   "execution_count": 7,
   "id": "90775714-8ec6-4440-a86b-b79f7628f075",
   "metadata": {},
   "outputs": [
    {
     "data": {
      "text/plain": [
       "OrderedDict([('weight',\n",
       "              tensor([[ 0.3454,  0.4216,  0.2427, -0.4341],\n",
       "                      [ 0.1167,  0.1879, -0.3469,  0.4128],\n",
       "                      [ 0.1604, -0.1559,  0.1518,  0.4788],\n",
       "                      [-0.2936,  0.2885,  0.0866,  0.0140],\n",
       "                      [ 0.3364,  0.3144,  0.0942, -0.4839],\n",
       "                      [ 0.1579, -0.1807, -0.2815, -0.3517],\n",
       "                      [ 0.0042,  0.0684, -0.2707,  0.1062],\n",
       "                      [ 0.3793, -0.1321, -0.3124,  0.3092]])),\n",
       "             ('bias',\n",
       "              tensor([ 0.4356,  0.3989, -0.3122, -0.0047, -0.4070, -0.0933,  0.2532, -0.2828]))])"
      ]
     },
     "execution_count": 7,
     "metadata": {},
     "output_type": "execute_result"
    }
   ],
   "source": [
    "net[0].state_dict()"
   ]
  },
  {
   "cell_type": "code",
   "execution_count": 8,
   "id": "1e92e8bd-60ff-4aba-bfb6-e7f799203cab",
   "metadata": {},
   "outputs": [],
   "source": [
    "## Targeted parameters"
   ]
  },
  {
   "cell_type": "code",
   "execution_count": 9,
   "id": "d6f48aa9-eeba-4bea-b37d-ab9b10fa5a95",
   "metadata": {},
   "outputs": [
    {
     "data": {
      "text/plain": [
       "(torch.nn.parameter.Parameter, tensor([-0.2214]))"
      ]
     },
     "execution_count": 9,
     "metadata": {},
     "output_type": "execute_result"
    }
   ],
   "source": [
    "type(net[2].bias),net[2].bias.data"
   ]
  },
  {
   "cell_type": "code",
   "execution_count": 11,
   "id": "438abd8a-56e4-4267-b9e0-06c2a69c652e",
   "metadata": {},
   "outputs": [
    {
     "data": {
      "text/plain": [
       "True"
      ]
     },
     "execution_count": 11,
     "metadata": {},
     "output_type": "execute_result"
    }
   ],
   "source": [
    "net[2].weight.grad == None"
   ]
  },
  {
   "cell_type": "code",
   "execution_count": 12,
   "id": "4d835662-60de-4200-b557-d8e06ead80cc",
   "metadata": {},
   "outputs": [],
   "source": [
    "net[2].weight.grad"
   ]
  },
  {
   "cell_type": "code",
   "execution_count": 13,
   "id": "9282b94e-8648-4ace-bdde-a8adf04897ba",
   "metadata": {},
   "outputs": [],
   "source": [
    "## all parameters at once"
   ]
  },
  {
   "cell_type": "code",
   "execution_count": 14,
   "id": "e0cac187-ef0a-45a7-9b5d-c9c6c016184e",
   "metadata": {},
   "outputs": [
    {
     "data": {
      "text/plain": [
       "[('0.weight', torch.Size([8, 4])),\n",
       " ('0.bias', torch.Size([8])),\n",
       " ('2.weight', torch.Size([1, 8])),\n",
       " ('2.bias', torch.Size([1]))]"
      ]
     },
     "execution_count": 14,
     "metadata": {},
     "output_type": "execute_result"
    }
   ],
   "source": [
    "[(name, param.shape) for name, param in net.named_parameters()]"
   ]
  },
  {
   "cell_type": "code",
   "execution_count": 15,
   "id": "49dda958-918b-4de5-8588-0bc484bb8781",
   "metadata": {},
   "outputs": [],
   "source": [
    "## Tied Parameters"
   ]
  },
  {
   "cell_type": "code",
   "execution_count": 16,
   "id": "377b5588-230b-411e-a78c-25da4243314f",
   "metadata": {},
   "outputs": [],
   "source": [
    "# sharing parameters accross multiple layers"
   ]
  },
  {
   "cell_type": "code",
   "execution_count": 17,
   "id": "ab11040e-c488-4a0b-ac2a-379bee48f5dc",
   "metadata": {},
   "outputs": [
    {
     "data": {
      "text/plain": [
       "tensor([[-0.0300],\n",
       "        [-0.0417]], grad_fn=<AddmmBackward0>)"
      ]
     },
     "execution_count": 17,
     "metadata": {},
     "output_type": "execute_result"
    }
   ],
   "source": [
    "shared = nn.LazyLinear(8)\n",
    "net = nn.Sequential(nn.LazyLinear(8),nn.ReLU(),\n",
    "                    shared,nn.ReLU(),\n",
    "                    shared,nn.ReLU(),\n",
    "                    nn.LazyLinear(1))\n",
    "net(X)"
   ]
  },
  {
   "cell_type": "code",
   "execution_count": 18,
   "id": "e539068b-2957-4662-a4a0-a01cb0ef0cb4",
   "metadata": {},
   "outputs": [],
   "source": [
    "## check weather the parameters are the same"
   ]
  },
  {
   "cell_type": "code",
   "execution_count": 19,
   "id": "21254914-8848-4c39-9251-b01710263e01",
   "metadata": {},
   "outputs": [
    {
     "name": "stdout",
     "output_type": "stream",
     "text": [
      "tensor([True, True, True, True, True, True, True, True])\n",
      "tensor([True, True, True, True, True, True, True, True])\n"
     ]
    }
   ],
   "source": [
    "print(net[2].weight.data[0] == net[4].weight.data[0])\n",
    "net[2].weight.data[0,0] = 100\n",
    "\n",
    "print(net[2].weight.data[0] == net[4].weight.data[0])\n"
   ]
  },
  {
   "cell_type": "markdown",
   "id": "8d876bf5-bdb2-4c28-af36-015ccc2d1cf1",
   "metadata": {},
   "source": [
    "## Exercise"
   ]
  },
  {
   "cell_type": "code",
   "execution_count": 20,
   "id": "47552438-5466-4a1e-baa8-faec28e169b2",
   "metadata": {},
   "outputs": [],
   "source": [
    "## Training and observing gradients"
   ]
  },
  {
   "cell_type": "code",
   "execution_count": null,
   "id": "d8cec0f0-572f-4239-b116-b644d27f600b",
   "metadata": {},
   "outputs": [],
   "source": []
  },
  {
   "cell_type": "code",
   "execution_count": null,
   "id": "8f30710d-4328-416f-8234-72a7d88ec878",
   "metadata": {},
   "outputs": [],
   "source": []
  },
  {
   "cell_type": "code",
   "execution_count": null,
   "id": "c24573da-a662-47b1-9053-5c49850789f6",
   "metadata": {},
   "outputs": [],
   "source": []
  }
 ],
 "metadata": {
  "kernelspec": {
   "display_name": "Python 3 (ipykernel)",
   "language": "python",
   "name": "python3"
  },
  "language_info": {
   "codemirror_mode": {
    "name": "ipython",
    "version": 3
   },
   "file_extension": ".py",
   "mimetype": "text/x-python",
   "name": "python",
   "nbconvert_exporter": "python",
   "pygments_lexer": "ipython3",
   "version": "3.10.12"
  }
 },
 "nbformat": 4,
 "nbformat_minor": 5
}
