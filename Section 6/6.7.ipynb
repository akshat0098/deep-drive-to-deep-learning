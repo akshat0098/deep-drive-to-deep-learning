{
 "cells": [
  {
   "cell_type": "code",
   "execution_count": 1,
   "id": "c9793774-36c6-4b85-9922-af69822a1c44",
   "metadata": {},
   "outputs": [],
   "source": [
    "import torch\n",
    "from torch import nn\n",
    "from d2l import torch as d2l"
   ]
  },
  {
   "cell_type": "code",
   "execution_count": 2,
   "id": "96abb418-c2c7-48d7-a1a0-bddc363f1c5a",
   "metadata": {},
   "outputs": [],
   "source": [
    "## Computing devices"
   ]
  },
  {
   "cell_type": "code",
   "execution_count": 3,
   "id": "24530f23-ac0a-401d-b4f9-632c045bfefd",
   "metadata": {},
   "outputs": [
    {
     "data": {
      "text/plain": [
       "(device(type='cpu'),\n",
       " device(type='cuda', index=0),\n",
       " device(type='cuda', index=1))"
      ]
     },
     "execution_count": 3,
     "metadata": {},
     "output_type": "execute_result"
    }
   ],
   "source": [
    "def cpu():\n",
    "    return torch.device('cpu')\n",
    "\n",
    "def gpu(i=0):\n",
    "    return torch.device(f'cuda:{i}')\n",
    "\n",
    "cpu(),gpu(),gpu(1)"
   ]
  },
  {
   "cell_type": "code",
   "execution_count": 4,
   "id": "844c4ed6-aaf7-4b10-99dd-cdc021e3fb8c",
   "metadata": {},
   "outputs": [
    {
     "data": {
      "text/plain": [
       "1"
      ]
     },
     "execution_count": 4,
     "metadata": {},
     "output_type": "execute_result"
    }
   ],
   "source": [
    "def num_gpus():  #@save\n",
    "    \"\"\"Get the number of available GPUs.\"\"\"\n",
    "    return torch.cuda.device_count()\n",
    "\n",
    "num_gpus()\n"
   ]
  },
  {
   "cell_type": "code",
   "execution_count": 5,
   "id": "8c064cfd-b288-4ebd-a6a2-0245dd37420c",
   "metadata": {},
   "outputs": [
    {
     "data": {
      "text/plain": [
       "(device(type='cuda', index=0),\n",
       " device(type='cpu'),\n",
       " [device(type='cuda', index=0)])"
      ]
     },
     "execution_count": 5,
     "metadata": {},
     "output_type": "execute_result"
    }
   ],
   "source": [
    "def try_gpu(i=0):  #@save\n",
    "    \"\"\"Return gpu(i) if exists, otherwise return cpu().\"\"\"\n",
    "    if num_gpus() >= i + 1:\n",
    "        return gpu(i)\n",
    "    return cpu()\n",
    "\n",
    "def try_all_gpus():  #@save\n",
    "    \"\"\"Return all available GPUs, or [cpu(),] if no GPU exists.\"\"\"\n",
    "    return [gpu(i) for i in range(num_gpus())]\n",
    "\n",
    "try_gpu(), try_gpu(10), try_all_gpus()\n"
   ]
  },
  {
   "cell_type": "markdown",
   "id": "29365d91-fb57-4d0e-be44-a2422d45d4ce",
   "metadata": {},
   "source": [
    "## Tensors and GPUs"
   ]
  },
  {
   "cell_type": "code",
   "execution_count": 6,
   "id": "d56fe8bd-5baa-466b-9d07-dc219398efed",
   "metadata": {},
   "outputs": [
    {
     "data": {
      "text/plain": [
       "device(type='cpu')"
      ]
     },
     "execution_count": 6,
     "metadata": {},
     "output_type": "execute_result"
    }
   ],
   "source": [
    "x = torch.tensor([1, 2, 3])\n",
    "x.device\n"
   ]
  },
  {
   "cell_type": "code",
   "execution_count": 14,
   "id": "c25affc9-4710-4212-aadb-eb50d54e7ddd",
   "metadata": {},
   "outputs": [
    {
     "data": {
      "text/plain": [
       "tensor([[1., 1., 1.],\n",
       "        [1., 1., 1.]], device='cuda:0')"
      ]
     },
     "execution_count": 14,
     "metadata": {},
     "output_type": "execute_result"
    }
   ],
   "source": [
    "X = torch.ones(2, 3, device=try_gpu())\n",
    "X\n"
   ]
  },
  {
   "cell_type": "code",
   "execution_count": 15,
   "id": "8a6af197-f8ee-49f0-b7bb-d6428ef53686",
   "metadata": {},
   "outputs": [
    {
     "data": {
      "text/plain": [
       "tensor([[0.7641, 0.7605, 0.1925],\n",
       "        [0.8807, 0.1042, 0.7989]])"
      ]
     },
     "execution_count": 15,
     "metadata": {},
     "output_type": "execute_result"
    }
   ],
   "source": [
    "Y = torch.rand(2, 3, device=cpu())\n",
    "Y\n"
   ]
  },
  {
   "cell_type": "code",
   "execution_count": 20,
   "id": "b00275a3-e708-4e4f-86d5-02f7330a04fb",
   "metadata": {},
   "outputs": [
    {
     "data": {
      "text/plain": [
       "device(type='cuda', index=0)"
      ]
     },
     "execution_count": 20,
     "metadata": {},
     "output_type": "execute_result"
    }
   ],
   "source": [
    "X.device\n"
   ]
  },
  {
   "cell_type": "code",
   "execution_count": 19,
   "id": "dea3991f-5a1f-431b-b7b4-98852805c56c",
   "metadata": {},
   "outputs": [
    {
     "data": {
      "text/plain": [
       "device(type='cpu')"
      ]
     },
     "execution_count": 19,
     "metadata": {},
     "output_type": "execute_result"
    }
   ],
   "source": [
    "Y.device"
   ]
  },
  {
   "cell_type": "markdown",
   "id": "7a4cc2e6-799a-418b-b05a-6a4f2fbf8c79",
   "metadata": {},
   "source": [
    "## Neural Networks and GPUs"
   ]
  },
  {
   "cell_type": "code",
   "execution_count": 21,
   "id": "c794850e-a277-4802-977e-20071f887590",
   "metadata": {},
   "outputs": [
    {
     "name": "stderr",
     "output_type": "stream",
     "text": [
      "/home/akshatsrivastava/.local/lib/python3.10/site-packages/torch/nn/modules/lazy.py:181: UserWarning: Lazy modules are a new feature under heavy development so changes to the API or functionality can happen at any moment.\n",
      "  warnings.warn('Lazy modules are a new feature under heavy development '\n"
     ]
    }
   ],
   "source": [
    "net = nn.Sequential(nn.LazyLinear(1))\n",
    "net = net.to(device=try_gpu())\n"
   ]
  },
  {
   "cell_type": "code",
   "execution_count": 22,
   "id": "7b063bd9-a121-4689-a097-e9ecc76276ac",
   "metadata": {},
   "outputs": [
    {
     "data": {
      "text/plain": [
       "tensor([[-0.3333],\n",
       "        [-0.3333]], device='cuda:0', grad_fn=<AddmmBackward0>)"
      ]
     },
     "execution_count": 22,
     "metadata": {},
     "output_type": "execute_result"
    }
   ],
   "source": [
    "net(X)\n"
   ]
  },
  {
   "cell_type": "markdown",
   "id": "56385f27-edb6-4244-a190-9eb88ebc0dfd",
   "metadata": {},
   "source": [
    "net[0].weight.data.device\n"
   ]
  },
  {
   "cell_type": "code",
   "execution_count": 27,
   "id": "9dae5f46-62cc-4d2f-ab97-931437415e2b",
   "metadata": {},
   "outputs": [],
   "source": [
    "@d2l.add_to_class(d2l.Trainer)\n",
    "def __init__(self,max_epochs,num_gpus=0,gradient_clip_val=0):\n",
    "    self.save_hyperparameters()\n",
    "    self.gpus = [d2l.gpu(i) for i in range(min(num_gpus,d2l.num_gpus()))]\n",
    "\n",
    "@d2l.add_to_class(d2l.Trainer)\n",
    "def prepare_batch(self,batch):\n",
    "    if self.gpus:\n",
    "        batch= [a.to(self.gpus[0]) for a in batch]\n",
    "    return batch\n",
    "\n",
    "@d2l.add_to_class(d2l.Trainer)\n",
    "def prepare_model(self,model):\n",
    "    model.trainer= self\n",
    "    model.board.xlim = [0,self.max_epochs]\n",
    "    if self.gpus:\n",
    "        model.to(self.gpus[0])\n",
    "    self.model=model"
   ]
  },
  {
   "cell_type": "markdown",
   "id": "804df876-7015-4f48-b349-6113dd884acb",
   "metadata": {},
   "source": [
    "## Question and answring"
   ]
  },
  {
   "cell_type": "markdown",
   "id": "4ba108a8-9861-4604-b871-17cadf78c237",
   "metadata": {},
   "source": [
    "Q1. Try a large computation task (e.g., large matrix multiplication). What’s the difference in speed between CPU and GPU? What about a task with a small number of calculations?\n",
    "\n",
    "Answer:\n",
    "\n",
    "Large tasks: GPUs are much faster than CPUs for highly parallelizable operations (like multiplying large matrices), because they have thousands of cores optimized for matrix/vector operations.\n",
    "\n",
    "Small tasks: Overhead of transferring data to/from GPU can dominate. In such cases, CPU may actually be faster, since GPU setup time outweighs computation gains."
   ]
  },
  {
   "cell_type": "markdown",
   "id": "0bddda51-f720-4e16-80e6-b53dac01da1e",
   "metadata": {},
   "source": [
    "Q2. How should we read and write model parameters on the GPU?\n",
    "\n",
    "Answer:\n",
    "\n",
    "Use the framework’s device management:\n",
    "\n",
    "PyTorch: # Move model to GPU\n",
    "model = model.to(\"cuda\")\n",
    "\n",
    "torch.save(model.state_dict(), \"model.pth\")\n",
    "\n",
    "model.load_state_dict(torch.load(\"model.pth\", map_location=\"cuda\"))\n"
   ]
  },
  {
   "cell_type": "code",
   "execution_count": null,
   "id": "a995a5df-886e-4be3-8bf7-469d32137db9",
   "metadata": {},
   "outputs": [],
   "source": []
  }
 ],
 "metadata": {
  "kernelspec": {
   "display_name": "Python 3 (ipykernel)",
   "language": "python",
   "name": "python3"
  },
  "language_info": {
   "codemirror_mode": {
    "name": "ipython",
    "version": 3
   },
   "file_extension": ".py",
   "mimetype": "text/x-python",
   "name": "python",
   "nbconvert_exporter": "python",
   "pygments_lexer": "ipython3",
   "version": "3.10.12"
  }
 },
 "nbformat": 4,
 "nbformat_minor": 5
}
